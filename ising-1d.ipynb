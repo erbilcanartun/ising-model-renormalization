{
 "cells": [
  {
   "cell_type": "code",
   "execution_count": 1,
   "id": "70341703-30ad-45bd-a45e-e0e54c9b218c",
   "metadata": {},
   "outputs": [],
   "source": [
    "import numpy as np\n",
    "import matplotlib.pyplot as plt\n",
    "\n",
    "import renormalization as rg"
   ]
  },
  {
   "cell_type": "code",
   "execution_count": 2,
   "id": "3bd3243b-904f-4384-9d63-bdfe4e71ebc9",
   "metadata": {},
   "outputs": [
    {
     "name": "stdout",
     "output_type": "stream",
     "text": [
      "0.1 0\n",
      "0.009934035920003692 0\n",
      "9.867857784795486e-05 0\n",
      "9.737461725833896e-09 0\n",
      "1.6653345369377348e-16 0\n",
      "0.0 0\n",
      "0.0 0\n",
      "0.0 0\n",
      "0.0 0\n",
      "0.0 0\n"
     ]
    }
   ],
   "source": [
    "j = 0.1\n",
    "h = 0\n",
    "\n",
    "for i in range(10):\n",
    "    print(j, h)\n",
    "    j = rg.J(j, h)\n",
    "    "
   ]
  }
 ],
 "metadata": {
  "kernelspec": {
   "display_name": "Python 3 (ipykernel)",
   "language": "python",
   "name": "python3"
  },
  "language_info": {
   "codemirror_mode": {
    "name": "ipython",
    "version": 3
   },
   "file_extension": ".py",
   "mimetype": "text/x-python",
   "name": "python",
   "nbconvert_exporter": "python",
   "pygments_lexer": "ipython3",
   "version": "3.12.2"
  }
 },
 "nbformat": 4,
 "nbformat_minor": 5
}
